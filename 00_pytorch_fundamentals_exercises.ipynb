{
 "cells": [
  {
   "cell_type": "markdown",
   "metadata": {
    "id": "AzDBM_v4iMe7"
   },
   "source": [
    "# 00. PyTorch Fundamentals Exercises\n",
    "\n",
    "### 1. Documentation reading \n",
    "\n",
    "A big part of deep learning (and learning to code in general) is getting familiar with the documentation of a certain framework you're using. We'll be using the PyTorch documentation a lot throughout the rest of this course. So I'd recommend spending 10-minutes reading the following (it's okay if you don't get some things for now, the focus is not yet full understanding, it's awareness):\n",
    "  * The documentation on [`torch.Tensor`](https://pytorch.org/docs/stable/tensors.html#torch-tensor).\n",
    "  * The documentation on [`torch.cuda`](https://pytorch.org/docs/master/notes/cuda.html#cuda-semantics).\n",
    "\n",
    "[Exercises Notebooks](https://github.com/mrdbourke/pytorch-deep-learning/tree/main/extras/exercises)\n",
    "\n",
    "[Solutions Notebooks](https://github.com/mrdbourke/pytorch-deep-learning/tree/main/extras/solutions)\n"
   ]
  },
  {
   "cell_type": "code",
   "execution_count": 1,
   "metadata": {
    "id": "bGD0oD8Kizak"
   },
   "outputs": [],
   "source": [
    "# No code solution (reading)"
   ]
  },
  {
   "cell_type": "markdown",
   "metadata": {
    "id": "__iXqqz-ioUJ"
   },
   "source": [
    "### 2. Create a random tensor with shape `(7, 7)`.\n"
   ]
  },
  {
   "cell_type": "code",
   "execution_count": 2,
   "metadata": {
    "id": "6pUq9Dc8i2L7"
   },
   "outputs": [
    {
     "name": "stdout",
     "output_type": "stream",
     "text": [
      "2.5.1\n",
      "CUDA available: True\n",
      "Using device: cuda\n",
      "random_tensor tensor([[0.1648, 0.5081, 0.1077, 0.0202, 0.4203, 0.7297, 0.3799],\n",
      "        [0.0677, 0.7581, 0.9525, 0.9202, 0.3000, 0.0724, 0.5431],\n",
      "        [0.2676, 0.3118, 0.0584, 0.2295, 0.2004, 0.3127, 0.1098],\n",
      "        [0.1124, 0.0444, 0.2263, 0.7749, 0.8635, 0.5983, 0.1712],\n",
      "        [0.0052, 0.3440, 0.2070, 0.0765, 0.7499, 0.9484, 0.5351],\n",
      "        [0.5176, 0.2780, 0.4953, 0.0923, 0.1487, 0.1188, 0.8706],\n",
      "        [0.8644, 0.2131, 0.4707, 0.9488, 0.6270, 0.2904, 0.2944]]) ; dtype: torch.float32 ; shape: torch.Size([7, 7]) ; device: cpu \n",
      "\n"
     ]
    }
   ],
   "source": [
    "# Import torch\n",
    "\n",
    "import torch\n",
    "import pandas as pd\n",
    "import numpy as np\n",
    "import matplotlib.pyplot as plt\n",
    "\n",
    "print(torch.__version__)\n",
    "## Check if CUDA is available:\n",
    "print(\"CUDA available:\", torch.cuda.is_available())\n",
    "\n",
    "## set pytorch tensor / device to use GPU\n",
    "device = torch.device(\"cuda\" if torch.cuda.is_available() else \"cpu\")\n",
    "print(\"Using device:\", device)\n",
    "### tensor = tensor.to(device) to move tensor to GPU\n",
    "\n",
    "\n",
    "# Create random tensor\n",
    "random_tensor = torch.rand(size=(7, 7)) \n",
    "print(f\"random_tensor\", random_tensor, f\"; dtype: {random_tensor.dtype}\", f\"; shape: {random_tensor.shape}\", f\"; device: {random_tensor.device} \\n\")"
   ]
  },
  {
   "cell_type": "markdown",
   "metadata": {
    "id": "9-XxvRLfiqkR"
   },
   "source": [
    "### 3. Perform a matrix multiplication on the tensor from 2 with another random tensor with shape `(1, 7)` (hint: you may have to transpose the second tensor)."
   ]
  },
  {
   "cell_type": "code",
   "execution_count": 5,
   "metadata": {},
   "outputs": [
    {
     "data": {
      "text/plain": [
       "tensor([[0.7216],\n",
       "        [0.9575],\n",
       "        [0.0669],\n",
       "        [0.0467],\n",
       "        [0.2640],\n",
       "        [0.1276],\n",
       "        [0.9788]])"
      ]
     },
     "execution_count": 5,
     "metadata": {},
     "output_type": "execute_result"
    }
   ],
   "source": [
    "torch.rand(size=(1, 7)).T"
   ]
  },
  {
   "cell_type": "code",
   "execution_count": 7,
   "metadata": {
    "id": "NcLqR0Sbi_vT"
   },
   "outputs": [
    {
     "data": {
      "text/plain": [
       "tensor([[2.2582],\n",
       "        [1.5082],\n",
       "        [2.5158],\n",
       "        [1.6808],\n",
       "        [1.5308],\n",
       "        [2.8808],\n",
       "        [2.2336]])"
      ]
     },
     "execution_count": 7,
     "metadata": {},
     "output_type": "execute_result"
    }
   ],
   "source": [
    "# Create another random tensor\n",
    "random_tensor_2 = torch.rand(size=(1, 7))\n",
    "# Perform matrix multiplication \n",
    "torch.matmul(random_tensor, random_tensor_2.T)"
   ]
  },
  {
   "cell_type": "markdown",
   "metadata": {
    "id": "eiutdKUFiryU"
   },
   "source": [
    "### 4. Set the random seed to `0` and do 2 & 3 over again.\n",
    "\n",
    "The output should be:\n",
    "```\n",
    "(tensor([[1.8542],\n",
    "         [1.9611],\n",
    "         [2.2884],\n",
    "         [3.0481],\n",
    "         [1.7067],\n",
    "         [2.5290],\n",
    "         [1.7989]]), torch.Size([7, 1]))\n",
    "```"
   ]
  },
  {
   "cell_type": "code",
   "execution_count": 3,
   "metadata": {
    "id": "D-lOWI_1jRMm"
   },
   "outputs": [
    {
     "name": "stdout",
     "output_type": "stream",
     "text": [
      "random_tensor tensor([[1.8542],\n",
      "        [1.9611],\n",
      "        [2.2884],\n",
      "        [3.0481],\n",
      "        [1.7067],\n",
      "        [2.5290],\n",
      "        [1.7989]]) ; dtype: torch.float32 ; shape: torch.Size([7, 1]) ; device: cpu \n",
      "\n"
     ]
    }
   ],
   "source": [
    "# Set manual seed\n",
    "torch.manual_seed(seed = 0)\n",
    "\n",
    "# Create two random tensors\n",
    "random_tensor = torch.rand(size=(7, 7)) \n",
    "random_tensor_2 = torch.rand(size=(1, 7))\n",
    "# Matrix multiply tensors\n",
    "matmul = torch.matmul(random_tensor, random_tensor_2.T) \n",
    "print(f\"random_tensor\", matmul, f\"; dtype: {matmul.dtype}\", f\"; shape: {matmul.shape}\", f\"; device: {matmul.device} \\n\")\n"
   ]
  },
  {
   "cell_type": "markdown",
   "metadata": {
    "id": "ezY6ks9Cis37"
   },
   "source": [
    "### 5. Speaking of random seeds, we saw how to set it with `torch.manual_seed()` but is there a GPU equivalent? (hint: you'll need to look into the documentation for `torch.cuda` for this one)\n",
    "  * If there is, set the GPU random seed to `1234`."
   ]
  },
  {
   "cell_type": "code",
   "execution_count": null,
   "metadata": {
    "id": "_LKWcfSTjp00"
   },
   "outputs": [
    {
     "name": "stdout",
     "output_type": "stream",
     "text": [
      "random_tensor tensor([[0.9558],\n",
      "        [1.2227],\n",
      "        [0.9335],\n",
      "        [1.6030],\n",
      "        [0.9344],\n",
      "        [0.5282],\n",
      "        [0.5664]], device='cuda:0') ; dtype: torch.float32 ; shape: torch.Size([7, 1]) ; device: cuda:0 \n",
      "\n"
     ]
    }
   ],
   "source": [
    "# Set random seed on the GPU\n",
    "# Set manual seed\n",
    "torch.cuda.manual_seed(seed = 1234)"
   ]
  },
  {
   "cell_type": "markdown",
   "metadata": {
    "id": "Ir9qSaj6it4n"
   },
   "source": [
    "\n",
    "### 6. Create two random tensors of shape `(2, 3)` and send them both to the GPU (you'll need access to a GPU for this). Set `torch.manual_seed(1234)` when creating the tensors (this doesn't have to be the GPU random seed). The output should be something like:\n",
    "\n",
    "```\n",
    "Device: cuda\n",
    "(tensor([[0.0290, 0.4019, 0.2598],\n",
    "         [0.3666, 0.0583, 0.7006]], device='cuda:0'),\n",
    " tensor([[0.0518, 0.4681, 0.6738],\n",
    "         [0.3315, 0.7837, 0.5631]], device='cuda:0'))\n",
    "```"
   ]
  },
  {
   "cell_type": "code",
   "execution_count": 21,
   "metadata": {
    "id": "azXExiFZj5nm"
   },
   "outputs": [
    {
     "name": "stdout",
     "output_type": "stream",
     "text": [
      "Using device: cuda\n",
      "random_tensor tensor([[0.0290, 0.4019, 0.2598],\n",
      "        [0.3666, 0.0583, 0.7006]], device='cuda:0') ; dtype: torch.float32 ; shape: torch.Size([2, 3]) ; device: cuda:0 \n",
      "\n",
      "random_tensor 2 tensor([[0.0518, 0.4681, 0.6738],\n",
      "        [0.3315, 0.7837, 0.5631]], device='cuda:0') ; dtype: torch.float32 ; shape: torch.Size([2, 3]) ; device: cuda:0 \n",
      "\n"
     ]
    }
   ],
   "source": [
    "# Set random seed on cuda\n",
    "torch.manual_seed(seed = 1234)\n",
    "# torch.cuda.manual_seed(seed = 1234)\n",
    "# random_tensor = torch.rand(size=(2,3), device = \"cuda\")\n",
    "# random_tensor_2 = torch.rand(size=(1, 7), device = \"cuda\")\n",
    "\n",
    "# Check for access to GPU\n",
    "device = torch.device(\"cuda\" if torch.cuda.is_available() else \"cpu\")\n",
    "print(\"Using device:\", device)\n",
    "\n",
    "# Create two random tensors on GPU\n",
    "random_tensor = torch.rand(size=(2,3)).to(device)\n",
    "random_tensor_2 = torch.rand(size=(2,3)).to(device)\n",
    "## M2:\n",
    "# random_tensor = torch.rand(size=(2,3), device = \"cuda\")\n",
    "# random_tensor_2 = torch.rand(size=(1, 7), device = \"cuda\")\n",
    "\n",
    "print(f\"random_tensor\", random_tensor, f\"; dtype: {random_tensor.dtype}\", f\"; shape: {random_tensor.shape}\", f\"; device: {random_tensor.device} \\n\")\n",
    "print(f\"random_tensor 2\", random_tensor_2, f\"; dtype: {random_tensor_2.dtype}\", f\"; shape: {random_tensor_2.shape}\", f\"; device: {random_tensor_2.device} \\n\")\n"
   ]
  },
  {
   "cell_type": "markdown",
   "metadata": {
    "id": "5TlAxeiSiu1y"
   },
   "source": [
    "\n",
    "### 7. Perform a matrix multiplication on the tensors you created in 6 (again, you may have to adjust the shapes of one of the tensors).\n",
    "\n",
    "The output should look like:\n",
    "```\n",
    "(tensor([[0.3647, 0.4709],\n",
    "         [0.5184, 0.5617]], device='cuda:0'), torch.Size([2, 2]))\n",
    "```"
   ]
  },
  {
   "cell_type": "code",
   "execution_count": 22,
   "metadata": {
    "id": "fAeG7ox0lHEO"
   },
   "outputs": [
    {
     "name": "stdout",
     "output_type": "stream",
     "text": [
      "random_tensor tensor([[0.3647, 0.4709],\n",
      "        [0.5184, 0.5617]], device='cuda:0') ; dtype: torch.float32 ; shape: torch.Size([2, 2]) ; device: cuda:0 \n",
      "\n"
     ]
    }
   ],
   "source": [
    "# Perform matmul on tensor_A and tensor_B\n",
    "matmul = torch.matmul(random_tensor, random_tensor_2.T) \n",
    "print(f\"random_tensor\", matmul, f\"; dtype: {matmul.dtype}\", f\"; shape: {matmul.shape}\", f\"; device: {matmul.device} \\n\")"
   ]
  },
  {
   "cell_type": "markdown",
   "metadata": {
    "id": "G7qfa5CSivwg"
   },
   "source": [
    "### 8. Find the maximum and minimum values of the output of 7."
   ]
  },
  {
   "cell_type": "code",
   "execution_count": 23,
   "metadata": {
    "id": "Fu8_3mZpllOd"
   },
   "outputs": [
    {
     "name": "stdout",
     "output_type": "stream",
     "text": [
      "max matmul tensor(0.5617, device='cuda:0') \n",
      "\n",
      "min matmul tensor(0.3647, device='cuda:0') \n",
      "\n"
     ]
    }
   ],
   "source": [
    "# Find max\n",
    "print(f\"max matmul\", matmul.max(), \"\\n\")\n",
    "\n",
    "# Find min\n",
    "print(f\"min matmul\", matmul.min(), \"\\n\")"
   ]
  },
  {
   "cell_type": "markdown",
   "metadata": {
    "id": "wrTj5FgNiw47"
   },
   "source": [
    "### 9. Find the maximum and minimum index values of the output of 7."
   ]
  },
  {
   "cell_type": "code",
   "execution_count": 25,
   "metadata": {
    "id": "CCEKt4K2lsfQ"
   },
   "outputs": [
    {
     "name": "stdout",
     "output_type": "stream",
     "text": [
      "argmax matmul (i.e. index where max) tensor(3, device='cuda:0') \n",
      "\n",
      "argmin matmul (i.e. index where min) tensor(0, device='cuda:0') \n",
      "\n"
     ]
    }
   ],
   "source": [
    "# Find arg max\n",
    "print(f\"argmax matmul (i.e. index where max)\", matmul.argmax(), \"\\n\")\n",
    "\n",
    "# Find arg min\n",
    "print(f\"argmin matmul (i.e. index where min)\", matmul.argmin(), \"\\n\")"
   ]
  },
  {
   "cell_type": "markdown",
   "metadata": {
    "id": "hmeybz4uixy7"
   },
   "source": [
    "\n",
    "### 10. Make a random tensor with shape `(1, 1, 1, 10)` and then create a new tensor with all the `1` dimensions removed to be left with a tensor of shape `(10)`. Set the seed to `7` when you create it and print out the first tensor and it's shape as well as the second tensor and it's shape.\n",
    "\n",
    "The output should look like:\n",
    "\n",
    "```\n",
    "tensor([[[[0.5349, 0.1988, 0.6592, 0.6569, 0.2328, 0.4251, 0.2071, 0.6297,\n",
    "           0.3653, 0.8513]]]]) torch.Size([1, 1, 1, 10])\n",
    "tensor([0.5349, 0.1988, 0.6592, 0.6569, 0.2328, 0.4251, 0.2071, 0.6297, 0.3653,\n",
    "        0.8513]) torch.Size([10])\n",
    "```"
   ]
  },
  {
   "cell_type": "code",
   "execution_count": 38,
   "metadata": {
    "id": "TQ9zbRzVl1jV"
   },
   "outputs": [
    {
     "name": "stdout",
     "output_type": "stream",
     "text": [
      "random_tensor tensor([[[[0.5349, 0.1988, 0.6592, 0.6569, 0.2328, 0.4251, 0.2071, 0.6297,\n",
      "           0.3653, 0.8513]]]]) ; dtype: torch.float32 ; shape: torch.Size([1, 1, 1, 10]) ; device: cpu \n",
      "\n",
      "random_tensor_squeezed tensor([0.5349, 0.1988, 0.6592, 0.6569, 0.2328, 0.4251, 0.2071, 0.6297, 0.3653,\n",
      "        0.8513]) ; dtype: torch.float32 ; shape: torch.Size([10]) ; device: cpu \n",
      "\n"
     ]
    }
   ],
   "source": [
    "# Set seed\n",
    "torch.manual_seed(seed = 7)\n",
    "\n",
    "# Create random tensor\n",
    "random_tensor = torch.rand(size=(1,1,1,10))\n",
    "print(f\"random_tensor\", random_tensor, f\"; dtype: {random_tensor.dtype}\", f\"; shape: {random_tensor.shape}\", f\"; device: {random_tensor.device} \\n\")\n",
    "\n",
    "# Remove single dimensions\n",
    "random_tensor_squeezed = torch.squeeze(random_tensor)\n",
    "print(f\"random_tensor_squeezed\", random_tensor_squeezed, f\"; dtype: {random_tensor_squeezed.dtype}\", f\"; shape: {random_tensor_squeezed.shape}\", f\"; device: {random_tensor_squeezed.device} \\n\")\n",
    "\n",
    "# Print out tensors and their shapes\n"
   ]
  }
 ],
 "metadata": {
  "accelerator": "GPU",
  "colab": {
   "collapsed_sections": [],
   "name": "00_pytorch_fundamentals_exercises.ipynb",
   "provenance": []
  },
  "kernelspec": {
   "display_name": "base",
   "language": "python",
   "name": "python3"
  },
  "language_info": {
   "codemirror_mode": {
    "name": "ipython",
    "version": 3
   },
   "file_extension": ".py",
   "mimetype": "text/x-python",
   "name": "python",
   "nbconvert_exporter": "python",
   "pygments_lexer": "ipython3",
   "version": "3.12.3"
  }
 },
 "nbformat": 4,
 "nbformat_minor": 0
}
